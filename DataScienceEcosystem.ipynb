{
 "cells": [
  {
   "cell_type": "markdown",
   "id": "7a51063b",
   "metadata": {},
   "source": [
    "# Data Science Tools and Ecosystem"
   ]
  },
  {
   "cell_type": "markdown",
   "id": "7b638196",
   "metadata": {},
   "source": [
    "In this notebook, Data Science Tools and Ecosystem are summarized."
   ]
  },
  {
   "cell_type": "markdown",
   "id": "c807f0cc",
   "metadata": {},
   "source": [
    "Some of the popular languages that Data Scientists use are:\n"
   ]
  },
  {
   "cell_type": "markdown",
   "id": "10b5c06f",
   "metadata": {},
   "source": [
    "1. Python\n",
    "2. R\n",
    "3. Julia\n",
    "4. Java\n",
    "5. SQL\n",
    "6. Scala"
   ]
  },
  {
   "cell_type": "markdown",
   "id": "e1afc2dc",
   "metadata": {},
   "source": [
    "Some of the commonly used libraries used by Data Scientists include:"
   ]
  },
  {
   "cell_type": "markdown",
   "id": "551ba8f4",
   "metadata": {},
   "source": [
    "1. TensorFlow\n",
    "2. Keras\n",
    "3. SciPy\n",
    "4. Pandas\n",
    "5. NumPy\n",
    "6. MatplotLib"
   ]
  },
  {
   "cell_type": "markdown",
   "id": "c6a60fa3",
   "metadata": {},
   "source": [
    "Data Science Tools"
   ]
  },
  {
   "cell_type": "markdown",
   "id": "5778592f",
   "metadata": {},
   "source": [
    "1. RStudio\n",
    "2. Jupyter Notebook\n",
    "3. Watson Studio"
   ]
  },
  {
   "cell_type": "markdown",
   "id": "f9cd5c58",
   "metadata": {},
   "source": [
    "### Below are a few examples of evaluating arithmetic expressions in Python"
   ]
  },
  {
   "cell_type": "code",
   "execution_count": 2,
   "id": "abad7de9",
   "metadata": {},
   "outputs": [
    {
     "data": {
      "text/plain": [
       "233"
      ]
     },
     "execution_count": 2,
     "metadata": {},
     "output_type": "execute_result"
    }
   ],
   "source": [
    "(45*5)+8"
   ]
  },
  {
   "cell_type": "code",
   "execution_count": 4,
   "id": "aca6b09c",
   "metadata": {},
   "outputs": [
    {
     "name": "stdout",
     "output_type": "stream",
     "text": [
      "2.0 hour/hours\n"
     ]
    }
   ],
   "source": [
    "minutes=120\n",
    "hours= minutes/60\n",
    "\n",
    "print(hours, \"hour/hours\")"
   ]
  },
  {
   "cell_type": "markdown",
   "id": "e8432ac5",
   "metadata": {},
   "source": [
    "<b>Objectives:</b>"
   ]
  },
  {
   "cell_type": "markdown",
   "id": "673880c9",
   "metadata": {},
   "source": [
    "- Watson Studio\n",
    "- JupyterLabs\n",
    "- GitHub"
   ]
  },
  {
   "cell_type": "markdown",
   "id": "72bee4cc",
   "metadata": {},
   "source": [
    "## Author\n",
    "Princess Naa Atsere Mensah"
   ]
  },
  {
   "cell_type": "code",
   "execution_count": null,
   "id": "228baedf",
   "metadata": {},
   "outputs": [],
   "source": []
  }
 ],
 "metadata": {
  "kernelspec": {
   "display_name": "Python 3",
   "language": "python",
   "name": "python3"
  },
  "language_info": {
   "codemirror_mode": {
    "name": "ipython",
    "version": 3
   },
   "file_extension": ".py",
   "mimetype": "text/x-python",
   "name": "python",
   "nbconvert_exporter": "python",
   "pygments_lexer": "ipython3",
   "version": "3.8.8"
  }
 },
 "nbformat": 4,
 "nbformat_minor": 5
}
